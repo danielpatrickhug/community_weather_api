{
  "nbformat": 4,
  "nbformat_minor": 0,
  "metadata": {
    "colab": {
      "name": "community_weather_api.ipynb",
      "provenance": [],
      "authorship_tag": "ABX9TyNaYv7zLI1Vl/AKIcCahvus",
      "include_colab_link": true
    },
    "kernelspec": {
      "name": "python3",
      "display_name": "Python 3"
    },
    "language_info": {
      "name": "python"
    }
  },
  "cells": [
    {
      "cell_type": "markdown",
      "metadata": {
        "id": "view-in-github",
        "colab_type": "text"
      },
      "source": [
        "<a href=\"https://colab.research.google.com/github/danielpatrickhug/community_weather_api/blob/main/community_weather_api.ipynb\" target=\"_parent\"><img src=\"https://colab.research.google.com/assets/colab-badge.svg\" alt=\"Open In Colab\"/></a>"
      ]
    },
    {
      "cell_type": "code",
      "source": [
        "from dataclasses import dataclass\n",
        "import datetime\n",
        "import json\n",
        "\n",
        "\n",
        "@dataclass\n",
        "class CityWeatherSample:\n",
        "    q: str\n",
        "    sample_time: datetime.datetime\n",
        "    weather_desciption: \"WeatherDescription\"\n",
        "    weather_main: \"WeatherMain\"\n",
        "    coordinates: \"Coordinates\"\n",
        "\n",
        "@dataclass\n",
        "class WeatherDescription:\n",
        "    id: int\n",
        "    main: str\n",
        "    description: str\n",
        "    icon: str\n",
        "\n",
        "@dataclass\n",
        "class WeatherMain:\n",
        "    temp: float\n",
        "    feels_like: float\n",
        "    temp_min: float\n",
        "    temp_max: float\n",
        "    pressure: float\n",
        "    humidity: float\n",
        "\n",
        "\n",
        "@dataclass\n",
        "class Coordinates:\n",
        "    lon: float\n",
        "    lat: float\n",
        "\n",
        "def build_query_string(city_query):\n",
        "    return {\"q\":f\"{city_query}\",\"units\":\"imperial\",\"mode\":\"json\"}"
      ],
      "metadata": {
        "id": "FPUD2cYapGC_"
      },
      "execution_count": 68,
      "outputs": []
    },
    {
      "cell_type": "code",
      "source": [
        "url = \"https://community-open-weather-map.p.rapidapi.com/weather\"\n",
        "headers = {\n",
        "\t\"X-RapidAPI-Host\": \"community-open-weather-map.p.rapidapi.com\",\n",
        "\t\"X-RapidAPI-Key\": \"\"\n",
        "}\n",
        "\n",
        "\n",
        "city_list = [\"London,uk\", \"New York City,us\", \"Chicago,us\", \"Austin,us\", \"San Francisco,us\", \"Honolulu,us\", \"Tokyo,jp\", \"New Delhi,in\", \"Zurich\"]\n",
        "#ct = datetime.datetime.now()\n",
        "for city in city_list:\n",
        "    query_string = build_query_string(city)\n",
        "    response = requests.request(\"GET\", url, headers=headers, params=query_string)\n",
        "    data = response.json()\n",
        "    print(data)\n",
        "\n",
        "    coords = Coordinates(**data['coord'])\n",
        "    desc = WeatherDescription(**data['weather'][0])\n",
        "    main = WeatherMain(**data['main'])\n",
        "    \n",
        "    \n",
        "    now = datetime.datetime.now()\n",
        "\n",
        "    city_sample = CityWeatherSample(q=city, sample_time=now, weather_desciption=desc, weather_main=main, coordinates=coords)\n",
        "    print(city_sample.q, city_sample.weather_desciption.description) "
      ],
      "metadata": {
        "id": "yQHR8OvYt7xq"
      },
      "execution_count": null,
      "outputs": []
    },
    {
      "cell_type": "code",
      "source": [
        ""
      ],
      "metadata": {
        "id": "H5MvEXG4uXnY"
      },
      "execution_count": null,
      "outputs": []
    }
  ]
}