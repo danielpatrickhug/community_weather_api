{
  "nbformat": 4,
  "nbformat_minor": 0,
  "metadata": {
    "colab": {
      "name": "community_weather_api.ipynb",
      "provenance": [],
      "authorship_tag": "ABX9TyOh0u/wrBy0P4BPLPKRcICu",
      "include_colab_link": true
    },
    "kernelspec": {
      "name": "python3",
      "display_name": "Python 3"
    },
    "language_info": {
      "name": "python"
    }
  },
  "cells": [
    {
      "cell_type": "markdown",
      "metadata": {
        "id": "view-in-github",
        "colab_type": "text"
      },
      "source": [
        "<a href=\"https://colab.research.google.com/github/danielpatrickhug/community_weather_api/blob/main/community_weather_api_2_apis.ipynb\" target=\"_parent\"><img src=\"https://colab.research.google.com/assets/colab-badge.svg\" alt=\"Open In Colab\"/></a>"
      ]
    },
    {
      "cell_type": "code",
      "source": [
        "import dataclasses\n",
        "from dataclasses import dataclass\n",
        "import datetime\n",
        "import json"
      ],
      "metadata": {
        "id": "QK_FavMUBCM7"
      },
      "execution_count": 19,
      "outputs": []
    },
    {
      "cell_type": "code",
      "source": [
        "@dataclass \n",
        "class City:\n",
        "    name: str\n",
        "    weather_data: \"CityWeatherSample\"\n",
        "    daily_local_news: \"CityNews\"\n"
      ],
      "metadata": {
        "id": "XqdG8Wcu8Gb1"
      },
      "execution_count": 23,
      "outputs": []
    },
    {
      "cell_type": "code",
      "source": [
        "@dataclass\n",
        "class CityNews:\n",
        "    q: str\n",
        "    sample_time: datetime.datetime\n",
        "    top_n_articles: list\n",
        "\n",
        "@dataclass\n",
        "class ClimateNews:\n",
        "    _type: str\n",
        "    name: str\n",
        "    url: str\n",
        "    description: str\n",
        "    about: list\n",
        "    datePublished: str\n",
        "\n",
        "    def __init__(self, **kwargs):\n",
        "        names = set([f.name for f in dataclasses.fields(self)])\n",
        "        for k, v in kwargs.items():\n",
        "            if k in names:\n",
        "                setattr(self, k, v)\n",
        "\n",
        "    "
      ],
      "metadata": {
        "id": "mWHwwTsI8qnV"
      },
      "execution_count": 27,
      "outputs": []
    },
    {
      "cell_type": "code",
      "source": [
        "@dataclass\n",
        "class CityWeatherSample:\n",
        "    q: str\n",
        "    sample_time: datetime.datetime\n",
        "    weather_desciption: \"WeatherDescription\"\n",
        "    weather_main: \"WeatherMain\"\n",
        "    coordinates: \"Coordinates\"\n",
        "\n",
        "@dataclass\n",
        "class WeatherDescription:\n",
        "    id: int\n",
        "    main: str\n",
        "    description: str\n",
        "    icon: str\n",
        "\n",
        "@dataclass\n",
        "class WeatherMain:\n",
        "    temp: float\n",
        "    feels_like: float\n",
        "    temp_min: float\n",
        "    temp_max: float\n",
        "    pressure: float\n",
        "    humidity: float\n",
        "\n",
        "\n",
        "@dataclass\n",
        "class Coordinates:\n",
        "    lon: float\n",
        "    lat: float\n",
        "\n",
        "def build_weather_query_string(city_query):\n",
        "    return {\"q\":f\"{city_query}\",\"units\":\"imperial\",\"mode\":\"json\"}\n",
        "\n",
        "def build_bing_query_string(city_query):\n",
        "    return {\"q\":f\"{city_query} Climate News\",\"freshness\":\"Day\",\"textFormat\":\"Raw\",\"safeSearch\":\"Off\"}"
      ],
      "metadata": {
        "id": "FPUD2cYapGC_"
      },
      "execution_count": 28,
      "outputs": []
    },
    {
      "cell_type": "code",
      "source": [
        "weather_api = \"https://community-open-weather-map.p.rapidapi.com/weather\"\n",
        "weather_headers = {\n",
        "\t\"X-RapidAPI-Host\": \"community-open-weather-map.p.rapidapi.com\",\n",
        "\t\"X-RapidAPI-Key\": \"\"\n",
        "}\n",
        "bing_url = \"https://bing-news-search1.p.rapidapi.com/news/search\"\n",
        "bing_headers = {\n",
        "\t\"X-BingApis-SDK\": \"true\",\n",
        "\t\"X-RapidAPI-Host\": \"bing-news-search1.p.rapidapi.com\",\n",
        "\t\"X-RapidAPI-Key\": \"\"\n",
        "}\n",
        "\n",
        "\n",
        "city_list = [\"London,uk\", \"New York City,us\", \"Chicago,us\", \"Austin,us\", \"San Francisco,us\", \"Honolulu,us\", \"Tokyo,jp\", \"New Delhi,in\", \"Zurich\"]\n",
        "#ct = datetime.datetime.now()\n",
        "for city in city_list:\n",
        "    weather_query_string = build_weather_query_string(city)\n",
        "    weather_response = requests.request(\"GET\", weather_api, headers=weather_headers, params=weather_query_string)\n",
        "    weather_data = weather_response.json()\n",
        "\n",
        "\n",
        "    coords = Coordinates(**weather_data['coord'])\n",
        "    desc = WeatherDescription(**weather_data['weather'][0])\n",
        "    main = WeatherMain(**weather_data['main'])\n",
        "    \n",
        "    now = datetime.datetime.now()\n",
        "\n",
        "    city_weather_sample = CityWeatherSample(q=city, sample_time=now, weather_desciption=desc, weather_main=main, coordinates=coords)\n",
        "\n",
        "    bing_query_string = build_bing_query_string(city)\n",
        "    bing_response = requests.request(\"GET\", bing_url, headers=bing_headers, params=bing_query_string)\n",
        "    bing_data = bing_response.json()\n",
        "    #print(bing_data['value'])\n",
        "    news = []\n",
        "    for line in bing_data['value']:\n",
        "        news.append(ClimateNews(**line))\n",
        "    city_news = CityNews(q=f\"{city} Climate News\", sample_time=now, top_n_articles=news)\n",
        "\n",
        "\n",
        "    city = City(name=city, weather_data=city_weather_sample, daily_local_news=city_news)\n",
        "    print(city)"
      ],
      "metadata": {
        "id": "yQHR8OvYt7xq"
      },
      "execution_count": null,
      "outputs": []
    },
    {
      "cell_type": "code",
      "source": [
        ""
      ],
      "metadata": {
        "id": "yFejrblf82ze"
      },
      "execution_count": null,
      "outputs": []
    }
  ]
}